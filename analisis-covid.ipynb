{
 "cells": [
  {
   "cell_type": "code",
   "execution_count": 1,
   "metadata": {},
   "outputs": [],
   "source": [
    "#import requests\n",
    "import pandas as pd\n",
    "import matplotlib.pyplot as plt\n",
    "import seaborn as sns\n",
    "import numpy as np\n",
    "#from sodapy import Socrata"
   ]
  },
  {
   "cell_type": "code",
   "execution_count": 4,
   "metadata": {},
   "outputs": [
    {
     "name": "stdout",
     "output_type": "stream",
     "text": [
      "Status Code 200\n"
     ]
    }
   ],
   "source": [
    "#url = \"https://healthdata.gov/resource/g62h-syeh.json\"\n",
    " \n",
    "#response = requests.get(url)\n",
    " \n",
    "#print(\"Status Code\", response.status_code)\n",
    "\n",
    "#response = response.json()\n",
    "#response[10]"
   ]
  },
  {
   "cell_type": "code",
   "execution_count": 2,
   "metadata": {},
   "outputs": [
    {
     "name": "stderr",
     "output_type": "stream",
     "text": [
      "WARNING:root:Requests made without an app_token will be subject to strict throttling limits.\n"
     ]
    }
   ],
   "source": [
    "# Mas info: https://dev.socrata.com/foundry/healthdata.gov/g62h-syeh\n",
    "\n",
    "client = Socrata(\"healthdata.gov\", None)\n",
    "\n",
    "results = client.get(\"g62h-syeh\", limit=2000)\n",
    "\n",
    "# Convert to pandas DataFrame\n",
    "results_df = pd.DataFrame.from_records(results)"
   ]
  },
  {
   "cell_type": "code",
   "execution_count": 5,
   "metadata": {},
   "outputs": [
    {
     "name": "stdout",
     "output_type": "stream",
     "text": [
      "  state                     date critical_staffing_shortage_today_yes  \\\n",
      "0    PR  2020-12-23T00:00:00.000                                   11   \n",
      "1    OR  2020-12-22T00:00:00.000                                    5   \n",
      "2    VI  2020-10-16T00:00:00.000                                    1   \n",
      "\n",
      "  critical_staffing_shortage_today_no  \\\n",
      "0                                  51   \n",
      "1                                  55   \n",
      "2                                   1   \n",
      "\n",
      "  critical_staffing_shortage_today_not_reported  \\\n",
      "0                                             5   \n",
      "1                                             2   \n",
      "2                                             0   \n",
      "\n",
      "  critical_staffing_shortage_anticipated_within_week_yes  \\\n",
      "0                                                 12       \n",
      "1                                                  7       \n",
      "2                                                  2       \n",
      "\n",
      "  critical_staffing_shortage_anticipated_within_week_no  \\\n",
      "0                                                 50      \n",
      "1                                                 53      \n",
      "2                                                  0      \n",
      "\n",
      "  critical_staffing_shortage_anticipated_within_week_not_reported  \\\n",
      "0                                                  5                \n",
      "1                                                  2                \n",
      "2                                                  0                \n",
      "\n",
      "  hospital_onset_covid hospital_onset_covid_coverage  ...  \\\n",
      "0                   13                            66  ...   \n",
      "1                   17                            60  ...   \n",
      "2                    0                             2  ...   \n",
      "\n",
      "  staffed_pediatric_icu_bed_occupancy_coverage  \\\n",
      "0                                            3   \n",
      "1                                           60   \n",
      "2                                            0   \n",
      "\n",
      "  total_staffed_pediatric_icu_beds total_staffed_pediatric_icu_beds_coverage  \\\n",
      "0                               15                                         3   \n",
      "1                              102                                        60   \n",
      "2                              NaN                                         0   \n",
      "\n",
      "  staffed_icu_pediatric_patients_confirmed_covid  \\\n",
      "0                                            NaN   \n",
      "1                                              0   \n",
      "2                                            NaN   \n",
      "\n",
      "  on_hand_supply_therapeutic_c_bamlanivimab_etesevimab_courses  \\\n",
      "0                                                NaN             \n",
      "1                                                NaN             \n",
      "2                                                NaN             \n",
      "\n",
      "  previous_week_therapeutic_c_bamlanivimab_etesevimab_courses_used  \\\n",
      "0                                                NaN                 \n",
      "1                                                NaN                 \n",
      "2                                                NaN                 \n",
      "\n",
      "  previous_day_admission_pediatric_covid_confirmed_0_4  \\\n",
      "0                                                NaN     \n",
      "1                                                NaN     \n",
      "2                                                NaN     \n",
      "\n",
      "  previous_day_admission_pediatric_covid_confirmed_unknown  \\\n",
      "0                                                NaN         \n",
      "1                                                NaN         \n",
      "2                                                NaN         \n",
      "\n",
      "  previous_day_admission_pediatric_covid_confirmed_12_17  \\\n",
      "0                                                NaN       \n",
      "1                                                NaN       \n",
      "2                                                NaN       \n",
      "\n",
      "  previous_day_admission_pediatric_covid_confirmed_5_11  \n",
      "0                                                NaN     \n",
      "1                                                NaN     \n",
      "2                                                NaN     \n",
      "\n",
      "[3 rows x 134 columns]\n",
      "(2000, 134)\n"
     ]
    }
   ],
   "source": [
    "print(results_df.head(3))\n",
    "print(results_df.shape)"
   ]
  },
  {
   "cell_type": "markdown",
   "metadata": {},
   "source": [
    "# Desarrollo del analisis usando el csv"
   ]
  },
  {
   "cell_type": "code",
   "execution_count": 2,
   "metadata": {},
   "outputs": [],
   "source": [
    "df_report = pd.read_csv(\"Datasets/COVID_19_reported.csv\", parse_dates=[\"date\"])"
   ]
  },
  {
   "cell_type": "code",
   "execution_count": 3,
   "metadata": {},
   "outputs": [
    {
     "name": "stdout",
     "output_type": "stream",
     "text": [
      "  state       date  critical_staffing_shortage_today_yes  \\\n",
      "0    PR 2020-12-23                                    11   \n",
      "1    OR 2020-12-22                                     5   \n",
      "2    VI 2020-10-16                                     1   \n",
      "\n",
      "   critical_staffing_shortage_today_no  \\\n",
      "0                                   51   \n",
      "1                                   55   \n",
      "2                                    1   \n",
      "\n",
      "   critical_staffing_shortage_today_not_reported  \\\n",
      "0                                              5   \n",
      "1                                              2   \n",
      "2                                              0   \n",
      "\n",
      "   critical_staffing_shortage_anticipated_within_week_yes  \\\n",
      "0                                                 12        \n",
      "1                                                  7        \n",
      "2                                                  2        \n",
      "\n",
      "   critical_staffing_shortage_anticipated_within_week_no  \\\n",
      "0                                                 50       \n",
      "1                                                 53       \n",
      "2                                                  0       \n",
      "\n",
      "   critical_staffing_shortage_anticipated_within_week_not_reported  \\\n",
      "0                                                  5                 \n",
      "1                                                  2                 \n",
      "2                                                  0                 \n",
      "\n",
      "   hospital_onset_covid  hospital_onset_covid_coverage  ...  \\\n",
      "0                  13.0                             66  ...   \n",
      "1                  17.0                             60  ...   \n",
      "2                   0.0                              2  ...   \n",
      "\n",
      "   previous_day_admission_pediatric_covid_confirmed_5_11  \\\n",
      "0                                                NaN       \n",
      "1                                                NaN       \n",
      "2                                                NaN       \n",
      "\n",
      "   previous_day_admission_pediatric_covid_confirmed_5_11_coverage  \\\n",
      "0                                                  0                \n",
      "1                                                  0                \n",
      "2                                                  0                \n",
      "\n",
      "   previous_day_admission_pediatric_covid_confirmed_unknown  \\\n",
      "0                                                NaN          \n",
      "1                                                NaN          \n",
      "2                                                NaN          \n",
      "\n",
      "   previous_day_admission_pediatric_covid_confirmed_unknown_coverage  \\\n",
      "0                                                  0                   \n",
      "1                                                  0                   \n",
      "2                                                  0                   \n",
      "\n",
      "   staffed_icu_pediatric_patients_confirmed_covid  \\\n",
      "0                                             NaN   \n",
      "1                                             0.0   \n",
      "2                                             NaN   \n",
      "\n",
      "   staffed_icu_pediatric_patients_confirmed_covid_coverage  \\\n",
      "0                                                  0         \n",
      "1                                                  8         \n",
      "2                                                  0         \n",
      "\n",
      "   staffed_pediatric_icu_bed_occupancy  \\\n",
      "0                                  4.0   \n",
      "1                                 55.0   \n",
      "2                                  NaN   \n",
      "\n",
      "   staffed_pediatric_icu_bed_occupancy_coverage  \\\n",
      "0                                             3   \n",
      "1                                            60   \n",
      "2                                             0   \n",
      "\n",
      "   total_staffed_pediatric_icu_beds  total_staffed_pediatric_icu_beds_coverage  \n",
      "0                              15.0                                          3  \n",
      "1                             102.0                                         60  \n",
      "2                               NaN                                          0  \n",
      "\n",
      "[3 rows x 135 columns]\n"
     ]
    }
   ],
   "source": [
    "print(df_report.head(3))\n",
    "#print(df_report.shape)"
   ]
  },
  {
   "cell_type": "code",
   "execution_count": 4,
   "metadata": {},
   "outputs": [
    {
     "name": "stderr",
     "output_type": "stream",
     "text": [
      "C:\\Users\\hector hugo\\AppData\\Local\\Temp\\ipykernel_16148\\1400115934.py:4: SettingWithCopyWarning: \n",
      "A value is trying to be set on a copy of a slice from a DataFrame\n",
      "\n",
      "See the caveats in the documentation: https://pandas.pydata.org/pandas-docs/stable/user_guide/indexing.html#returning-a-view-versus-a-copy\n",
      "  df.sort_values(by='date', ascending = True,\n"
     ]
    }
   ],
   "source": [
    "df_mask = df_report['date']<= '2020-08-01'\n",
    "df = df_report[df_mask]\n",
    "\n",
    "df.sort_values(by='date', ascending = True,\n",
    "                 inplace = True)\n",
    "df = df.reset_index()"
   ]
  },
  {
   "cell_type": "code",
   "execution_count": 5,
   "metadata": {},
   "outputs": [
    {
     "name": "stdout",
     "output_type": "stream",
     "text": [
      "      index state       date  critical_staffing_shortage_today_yes  \\\n",
      "8387   5005    NV 2020-08-01                                     8   \n",
      "8388   7895    NY 2020-08-01                                     9   \n",
      "8389   9846    WI 2020-08-01                                     6   \n",
      "\n",
      "      critical_staffing_shortage_today_no  \\\n",
      "8387                                   53   \n",
      "8388                                  106   \n",
      "8389                                   44   \n",
      "\n",
      "      critical_staffing_shortage_today_not_reported  \\\n",
      "8387                                              1   \n",
      "8388                                             44   \n",
      "8389                                             83   \n",
      "\n",
      "      critical_staffing_shortage_anticipated_within_week_yes  \\\n",
      "8387                                                  9        \n",
      "8388                                                  7        \n",
      "8389                                                  6        \n",
      "\n",
      "      critical_staffing_shortage_anticipated_within_week_no  \\\n",
      "8387                                                 52       \n",
      "8388                                                106       \n",
      "8389                                                 30       \n",
      "\n",
      "      critical_staffing_shortage_anticipated_within_week_not_reported  \\\n",
      "8387                                                  1                 \n",
      "8388                                                 46                 \n",
      "8389                                                 97                 \n",
      "\n",
      "      hospital_onset_covid  ...  \\\n",
      "8387                  35.0  ...   \n",
      "8388                  25.0  ...   \n",
      "8389                   0.0  ...   \n",
      "\n",
      "      previous_day_admission_pediatric_covid_confirmed_5_11  \\\n",
      "8387                                                NaN       \n",
      "8388                                                NaN       \n",
      "8389                                                NaN       \n",
      "\n",
      "      previous_day_admission_pediatric_covid_confirmed_5_11_coverage  \\\n",
      "8387                                                  0                \n",
      "8388                                                  0                \n",
      "8389                                                  0                \n",
      "\n",
      "      previous_day_admission_pediatric_covid_confirmed_unknown  \\\n",
      "8387                                                NaN          \n",
      "8388                                                NaN          \n",
      "8389                                                NaN          \n",
      "\n",
      "      previous_day_admission_pediatric_covid_confirmed_unknown_coverage  \\\n",
      "8387                                                  0                   \n",
      "8388                                                  0                   \n",
      "8389                                                  0                   \n",
      "\n",
      "      staffed_icu_pediatric_patients_confirmed_covid  \\\n",
      "8387                                             0.0   \n",
      "8388                                             3.0   \n",
      "8389                                             3.0   \n",
      "\n",
      "      staffed_icu_pediatric_patients_confirmed_covid_coverage  \\\n",
      "8387                                                  1         \n",
      "8388                                                115         \n",
      "8389                                                126         \n",
      "\n",
      "      staffed_pediatric_icu_bed_occupancy  \\\n",
      "8387                                  0.0   \n",
      "8388                                732.0   \n",
      "8389                                195.0   \n",
      "\n",
      "      staffed_pediatric_icu_bed_occupancy_coverage  \\\n",
      "8387                                             2   \n",
      "8388                                           117   \n",
      "8389                                           122   \n",
      "\n",
      "      total_staffed_pediatric_icu_beds  \\\n",
      "8387                               0.0   \n",
      "8388                             895.0   \n",
      "8389                             404.0   \n",
      "\n",
      "      total_staffed_pediatric_icu_beds_coverage  \n",
      "8387                                          2  \n",
      "8388                                        109  \n",
      "8389                                        121  \n",
      "\n",
      "[3 rows x 136 columns]\n",
      "(8390, 136)\n"
     ]
    }
   ],
   "source": [
    "print(df.tail(3))\n",
    "print(df.shape)"
   ]
  },
  {
   "cell_type": "code",
   "execution_count": 68,
   "metadata": {},
   "outputs": [
    {
     "name": "stdout",
     "output_type": "stream",
     "text": [
      "Index(['index', 'state', 'date', 'critical_staffing_shortage_today_yes',\n",
      "       'critical_staffing_shortage_today_no',\n",
      "       'critical_staffing_shortage_today_not_reported',\n",
      "       'critical_staffing_shortage_anticipated_within_week_yes',\n",
      "       'critical_staffing_shortage_anticipated_within_week_no',\n",
      "       'critical_staffing_shortage_anticipated_within_week_not_reported',\n",
      "       'hospital_onset_covid',\n",
      "       ...\n",
      "       'previous_day_admission_pediatric_covid_confirmed_5_11',\n",
      "       'previous_day_admission_pediatric_covid_confirmed_5_11_coverage',\n",
      "       'previous_day_admission_pediatric_covid_confirmed_unknown',\n",
      "       'previous_day_admission_pediatric_covid_confirmed_unknown_coverage',\n",
      "       'staffed_icu_pediatric_patients_confirmed_covid',\n",
      "       'staffed_icu_pediatric_patients_confirmed_covid_coverage',\n",
      "       'staffed_pediatric_icu_bed_occupancy',\n",
      "       'staffed_pediatric_icu_bed_occupancy_coverage',\n",
      "       'total_staffed_pediatric_icu_beds',\n",
      "       'total_staffed_pediatric_icu_beds_coverage'],\n",
      "      dtype='object', length=136)\n"
     ]
    }
   ],
   "source": [
    "print(df.columns)"
   ]
  },
  {
   "cell_type": "markdown",
   "metadata": {},
   "source": [
    "1 -  ¿Cuáles fueron los 5 Estados con mayor ocupación hospitalaria por COVID? Criterio de ocupación por cama común. Considere la cantidad de camas ocupadas con pacientes confirmados y tome como referencia los 6 primeros meses del 2020 - recuerde incluir la cifra de infectados en esos meses (acumulativo). ¿Influye el rango etario en este comportamiento?"
   ]
  },
  {
   "cell_type": "code",
   "execution_count": 79,
   "metadata": {},
   "outputs": [
    {
     "name": "stderr",
     "output_type": "stream",
     "text": [
      "C:\\Users\\hector hugo\\AppData\\Local\\Temp\\ipykernel_1488\\754319086.py:4: SettingWithCopyWarning: \n",
      "A value is trying to be set on a copy of a slice from a DataFrame\n",
      "\n",
      "See the caveats in the documentation: https://pandas.pydata.org/pandas-docs/stable/user_guide/indexing.html#returning-a-view-versus-a-copy\n",
      "  df1.sort_values(by='date', ascending = True,\n"
     ]
    }
   ],
   "source": [
    "df_mask = df['date']<= '2020-07-01'\n",
    "df1 = df[df_mask]\n",
    "\n",
    "df1.sort_values(by='date', ascending = True,\n",
    "                 inplace = True)\n",
    "df1 = df1.reset_index()\n",
    "\n",
    "df1 = df1[['date','state','total_adult_patients_hospitalized_confirmed_covid']]"
   ]
  },
  {
   "cell_type": "code",
   "execution_count": 80,
   "metadata": {},
   "outputs": [
    {
     "name": "stdout",
     "output_type": "stream",
     "text": [
      "        date state  total_adult_patients_hospitalized_confirmed_covid\n",
      "0 2020-01-01    NC                                                NaN\n",
      "1 2020-01-01    IN                                                NaN\n",
      "2 2020-01-01    MT                                                NaN\n",
      "3 2020-01-01    TX                                                NaN\n",
      "4 2020-01-01    LA                                                NaN\n"
     ]
    },
    {
     "data": {
      "text/plain": [
       "110108.0"
      ]
     },
     "execution_count": 80,
     "metadata": {},
     "output_type": "execute_result"
    }
   ],
   "source": [
    "print(df1.head())\n",
    "\n",
    "\n",
    "# Reported patients currently hospitalized in an adult inpatient bed who have laboratory-confirmed COVID-19. This include those in observation beds.\n",
    "df1['total_adult_patients_hospitalized_confirmed_covid'].sum()"
   ]
  },
  {
   "cell_type": "code",
   "execution_count": 81,
   "metadata": {},
   "outputs": [],
   "source": [
    "df1 = df1.groupby(['state'])['total_adult_patients_hospitalized_confirmed_covid'].sum().sort_values(ascending=False)\n"
   ]
  },
  {
   "cell_type": "code",
   "execution_count": 87,
   "metadata": {},
   "outputs": [
    {
     "name": "stdout",
     "output_type": "stream",
     "text": [
      "state\n",
      "LA    40881.0\n",
      "CA    36243.0\n",
      "NV    20224.0\n",
      "AZ     5557.0\n",
      "IA     3187.0\n",
      "Name: total_adult_patients_hospitalized_confirmed_covid, dtype: float64\n"
     ]
    }
   ],
   "source": [
    "print(df1[:5])"
   ]
  },
  {
   "cell_type": "markdown",
   "metadata": {},
   "source": [
    "2 - Analice la ocupación de camas (Común) por COVID en el Estado de Nueva York durante la cuarentena establecida e indique:\n",
    "- Intervalos de crecimiento y decrecimiento\n",
    "- Puntos críticos (mínimos y máximos)"
   ]
  },
  {
   "cell_type": "code",
   "execution_count": 103,
   "metadata": {},
   "outputs": [],
   "source": [
    "df_mask = df['date']< '2020-07-01'\n",
    "\n",
    "df2 = df[df_mask] \n",
    "\n",
    "df_mask2 = df2['state'] == \"NY\"\n",
    "df2 = df2[df_mask2] \n",
    "\n",
    "df2.sort_values(by='date', ascending = True,\n",
    "                 inplace = True)\n",
    "df2 = df2.reset_index()\n",
    "\n",
    "# inpatient_beds_utilization =  Percentage of inpatient beds that are being utilized in this state. This number only accounts for hospitals in the state that report both \"inpatient_beds_used\" and \"inpatient_beds\" fields.\n",
    "\n",
    "df2 = df2[['date','state','inpatient_beds_utilization']]"
   ]
  },
  {
   "cell_type": "code",
   "execution_count": 104,
   "metadata": {},
   "outputs": [
    {
     "name": "stdout",
     "output_type": "stream",
     "text": [
      "          date state  inpatient_beds_utilization\n",
      "104 2020-06-26    NY                    0.697932\n",
      "105 2020-06-27    NY                    0.671546\n",
      "106 2020-06-28    NY                    0.654521\n",
      "107 2020-06-29    NY                    0.678607\n",
      "108 2020-06-30    NY                    0.696238\n"
     ]
    }
   ],
   "source": [
    "print(df2.tail())"
   ]
  },
  {
   "cell_type": "code",
   "execution_count": 113,
   "metadata": {},
   "outputs": [
    {
     "name": "stdout",
     "output_type": "stream",
     "text": [
      "0.6943263624725792\n"
     ]
    }
   ],
   "source": [
    "print(df2['inpatient_beds_utilization'].mean())"
   ]
  },
  {
   "cell_type": "code",
   "execution_count": 105,
   "metadata": {},
   "outputs": [
    {
     "data": {
      "image/png": "[encoded data removed]",
      "text/plain": [
       "<Figure size 1800x720 with 1 Axes>"
      ]
     },
     "metadata": {},
     "output_type": "display_data"
    }
   ],
   "source": [
    "sns.set(rc = {'figure.figsize':(25,10)})\n",
    "sns.lineplot(data=df2, x=\"date\", y=\"inpatient_beds_utilization\")\n",
    "\n",
    "plt.show()"
   ]
  },
  {
   "cell_type": "markdown",
   "metadata": {},
   "source": [
    "3 - ¿Cuáles fueron los cinco Estados que más camas UCI -Unidades de Cuidados Intensivos- utilizaron durante el año 2020? La medición debe realizarse en términos absolutos."
   ]
  },
  {
   "cell_type": "code",
   "execution_count": 119,
   "metadata": {},
   "outputs": [
    {
     "name": "stderr",
     "output_type": "stream",
     "text": [
      "C:\\Users\\hector hugo\\AppData\\Local\\Temp\\ipykernel_1488\\2010084509.py:6: SettingWithCopyWarning: \n",
      "A value is trying to be set on a copy of a slice from a DataFrame\n",
      "\n",
      "See the caveats in the documentation: https://pandas.pydata.org/pandas-docs/stable/user_guide/indexing.html#returning-a-view-versus-a-copy\n",
      "  df3.sort_values(by='date', ascending = True,\n"
     ]
    }
   ],
   "source": [
    "# staffed_icu_adult_patients_confirmed_covid = 29. Reported patients currently hospitalized in an adult ICU bed who have confirmed COVID-19 in this state\n",
    "\n",
    "df_mask = df['state'] == 'staffed_icu_adult_patients_confirmed_covid'\n",
    "df3 = df[df_mask] \n",
    "\n",
    "df3.sort_values(by='date', ascending = True,\n",
    "                 inplace = True)\n",
    "df3 = df3.reset_index()\n",
    "\n",
    "\n",
    "df3 = df[['date','state','staffed_icu_adult_patients_confirmed_covid']]"
   ]
  },
  {
   "cell_type": "code",
   "execution_count": 120,
   "metadata": {},
   "outputs": [
    {
     "name": "stdout",
     "output_type": "stream",
     "text": [
      "           date state  staffed_icu_adult_patients_confirmed_covid\n",
      "8387 2020-08-01    NV                                       316.0\n",
      "8388 2020-08-01    NY                                       110.0\n",
      "8389 2020-08-01    WI                                       127.0\n"
     ]
    }
   ],
   "source": [
    "print(df3.tail(3))"
   ]
  },
  {
   "cell_type": "code",
   "execution_count": 121,
   "metadata": {},
   "outputs": [],
   "source": [
    "df3 = df3.groupby(['state'])['staffed_icu_adult_patients_confirmed_covid'].sum().sort_values(ascending=False)"
   ]
  },
  {
   "cell_type": "code",
   "execution_count": 122,
   "metadata": {},
   "outputs": [
    {
     "name": "stdout",
     "output_type": "stream",
     "text": [
      "state\n",
      "TX    42572.0\n",
      "FL    33445.0\n",
      "CA    29125.0\n",
      "AZ    11967.0\n",
      "GA     9903.0\n",
      "Name: staffed_icu_adult_patients_confirmed_covid, dtype: float64\n"
     ]
    }
   ],
   "source": [
    "print(df3[:5])"
   ]
  },
  {
   "cell_type": "markdown",
   "metadata": {},
   "source": [
    "4 - ¿Qué cantidad de camas se utilizaron, por Estado, para pacientes pediátricos con COVID durante el 2020?"
   ]
  },
  {
   "cell_type": "code",
   "execution_count": 67,
   "metadata": {},
   "outputs": [
    {
     "name": "stderr",
     "output_type": "stream",
     "text": [
      "C:\\Users\\hector hugo\\AppData\\Local\\Temp\\ipykernel_18848\\3353392983.py:6: SettingWithCopyWarning: \n",
      "A value is trying to be set on a copy of a slice from a DataFrame\n",
      "\n",
      "See the caveats in the documentation: https://pandas.pydata.org/pandas-docs/stable/user_guide/indexing.html#returning-a-view-versus-a-copy\n",
      "  df_4.sort_values(by='date', ascending = True,\n"
     ]
    }
   ],
   "source": [
    "# total_pediatric_patients_hospitalized_confirmed_covid -> 37:Reported patients currently hospitalized in a pediatric inpatient bed, including NICU, newborn, and nursery, who are laboratory-confirmed-positive for COVID-19. This include those in observation beds\n",
    "\n",
    "df_mask = df_report['date'] < '2021-01-01'\n",
    "df_4 = df_report[df_mask]\n",
    "\n",
    "df_4.sort_values(by='date', ascending = True,\n",
    "                 inplace = True)\n",
    "df_4 = df_4.reset_index()\n",
    "\n",
    "\n",
    "df_4 = df_4[['date','state','total_pediatric_patients_hospitalized_confirmed_covid']]\n",
    "df_4['month'] = pd.to_datetime(df_4['date']).dt.month"
   ]
  },
  {
   "cell_type": "code",
   "execution_count": 68,
   "metadata": {},
   "outputs": [
    {
     "name": "stdout",
     "output_type": "stream",
     "text": [
      "            date state  total_pediatric_patients_hospitalized_confirmed_covid  \\\n",
      "16443 2020-12-31    IA                                                7.0       \n",
      "16444 2020-12-31    TN                                               27.0       \n",
      "16445 2020-12-31    MI                                               20.0       \n",
      "\n",
      "       month  \n",
      "16443     12  \n",
      "16444     12  \n",
      "16445     12  \n"
     ]
    }
   ],
   "source": [
    "print(df_4.tail(3))"
   ]
  },
  {
   "cell_type": "code",
   "execution_count": 69,
   "metadata": {},
   "outputs": [],
   "source": [
    "df_4 = df_4.groupby(['state'])['total_pediatric_patients_hospitalized_confirmed_covid'].sum().sort_values(ascending=False)"
   ]
  },
  {
   "cell_type": "code",
   "execution_count": 70,
   "metadata": {},
   "outputs": [
    {
     "name": "stdout",
     "output_type": "stream",
     "text": [
      "state\n",
      "TX    12574.0\n",
      "CA     9909.0\n",
      "FL     7411.0\n",
      "AZ     5710.0\n",
      "PA     5682.0\n",
      "IL     5254.0\n",
      "GA     5049.0\n",
      "NY     4815.0\n",
      "TN     3860.0\n",
      "OK     3356.0\n",
      "CO     3209.0\n",
      "OH     3133.0\n",
      "MO     3050.0\n",
      "AL     2879.0\n",
      "NC     2268.0\n",
      "NJ     2075.0\n",
      "MN     2027.0\n",
      "NE     2020.0\n",
      "VA     1843.0\n",
      "SD     1758.0\n",
      "MI     1724.0\n",
      "AR     1698.0\n",
      "IN     1465.0\n",
      "MA     1390.0\n",
      "NV     1117.0\n",
      "Name: total_pediatric_patients_hospitalized_confirmed_covid, dtype: float64\n"
     ]
    }
   ],
   "source": [
    "print(df_4[0:25])"
   ]
  },
  {
   "cell_type": "markdown",
   "metadata": {},
   "source": [
    "5 - ¿Qué porcentaje de camas UCI corresponden a casos confirmados de COVID-19? Agrupe por Estado."
   ]
  },
  {
   "cell_type": "code",
   "execution_count": 151,
   "metadata": {},
   "outputs": [
    {
     "name": "stderr",
     "output_type": "stream",
     "text": [
      "C:\\Users\\hector hugo\\AppData\\Local\\Temp\\ipykernel_5648\\69717395.py:7: SettingWithCopyWarning: \n",
      "A value is trying to be set on a copy of a slice from a DataFrame.\n",
      "Try using .loc[row_indexer,col_indexer] = value instead\n",
      "\n",
      "See the caveats in the documentation: https://pandas.pydata.org/pandas-docs/stable/user_guide/indexing.html#returning-a-view-versus-a-copy\n",
      "  df_5['percent_icu_beds_covid_confirmed'] = df_5['staffed_icu_adult_patients_confirmed_covid'] / df_5['total_staffed_adult_icu_beds']\n"
     ]
    }
   ],
   "source": [
    "# staffed_icu_adult_patients_confirmed_covid -> 29. Reported patients currently hospitalized in an adult ICU bed who have confirmed COVID-19 in this state\n",
    "# total_staffed_adult_icu_beds -> 39.  Reported total number of staffed inpatient adult ICU beds in this state\n",
    " \n",
    "# Trabajamos con df, que tiene los registros hasta el 1/8/20\n",
    "\n",
    "df_5 = df[['date','state','staffed_icu_adult_patients_confirmed_covid', 'total_staffed_adult_icu_beds']]\n",
    "df_5['percent_icu_beds_covid_confirmed'] = df_5['staffed_icu_adult_patients_confirmed_covid'] / df_5['total_staffed_adult_icu_beds']"
   ]
  },
  {
   "cell_type": "code",
   "execution_count": 152,
   "metadata": {},
   "outputs": [
    {
     "name": "stdout",
     "output_type": "stream",
     "text": [
      "           date state  staffed_icu_adult_patients_confirmed_covid  \\\n",
      "6763 2020-07-02    IA                                         0.0   \n",
      "7950 2020-07-24    VT                                         0.0   \n",
      "7985 2020-07-25    VT                                         0.0   \n",
      "4584 2020-05-22    NE                                         0.0   \n",
      "4656 2020-05-23    NE                                         0.0   \n",
      "...         ...   ...                                         ...   \n",
      "8012 2020-07-25    ND                                         NaN   \n",
      "8025 2020-07-26    ND                                         NaN   \n",
      "8026 2020-07-26    PR                                         0.0   \n",
      "8106 2020-07-27    ND                                         NaN   \n",
      "8121 2020-07-27    PR                                         0.0   \n",
      "\n",
      "      total_staffed_adult_icu_beds  percent_icu_beds_covid_confirmed  \n",
      "6763                          23.0                               0.0  \n",
      "7950                          47.0                               0.0  \n",
      "7985                          47.0                               0.0  \n",
      "4584                          54.0                               0.0  \n",
      "4656                          54.0                               0.0  \n",
      "...                            ...                               ...  \n",
      "8012                           NaN                               NaN  \n",
      "8025                           NaN                               NaN  \n",
      "8026                           0.0                               NaN  \n",
      "8106                           NaN                               NaN  \n",
      "8121                           0.0                               NaN  \n",
      "\n",
      "[8390 rows x 5 columns]\n"
     ]
    }
   ],
   "source": [
    "#print(df_5.tail())\n",
    "print(df_5.sort_values([\"percent_icu_beds_covid_confirmed\"],ascending=True))"
   ]
  },
  {
   "cell_type": "markdown",
   "metadata": {},
   "source": [
    "Existen registros donde staffed_icu_adult_patients_confirmed_covid > total_staffed_adult_icu_beds, no deberia ocurrir esto por lo que se inspecciona cunatos son y si son pocos se los elimina."
   ]
  },
  {
   "cell_type": "code",
   "execution_count": 153,
   "metadata": {},
   "outputs": [
    {
     "name": "stdout",
     "output_type": "stream",
     "text": [
      "(61, 5)\n"
     ]
    }
   ],
   "source": [
    "df_mask = df_5['staffed_icu_adult_patients_confirmed_covid'] > df_5['total_staffed_adult_icu_beds']\n",
    "print(df_5[df_mask].shape)\n"
   ]
  },
  {
   "cell_type": "markdown",
   "metadata": {},
   "source": [
    "Son 61 de un total de 8360, por lo que son eliminados"
   ]
  },
  {
   "cell_type": "code",
   "execution_count": 154,
   "metadata": {},
   "outputs": [
    {
     "name": "stderr",
     "output_type": "stream",
     "text": [
      "C:\\Users\\hector hugo\\AppData\\Local\\Temp\\ipykernel_5648\\887485635.py:3: SettingWithCopyWarning: \n",
      "A value is trying to be set on a copy of a slice from a DataFrame\n",
      "\n",
      "See the caveats in the documentation: https://pandas.pydata.org/pandas-docs/stable/user_guide/indexing.html#returning-a-view-versus-a-copy\n",
      "  df_5.drop(indexNames , inplace=True)\n"
     ]
    }
   ],
   "source": [
    "indexNames = df_5[ (df_5['staffed_icu_adult_patients_confirmed_covid'] > df_5['total_staffed_adult_icu_beds'])\n",
    "               ].index\n",
    "df_5.drop(indexNames , inplace=True)"
   ]
  },
  {
   "cell_type": "code",
   "execution_count": 155,
   "metadata": {},
   "outputs": [
    {
     "name": "stdout",
     "output_type": "stream",
     "text": [
      "(8329, 5)\n"
     ]
    }
   ],
   "source": [
    "print(df_5.shape)\n"
   ]
  },
  {
   "cell_type": "code",
   "execution_count": 156,
   "metadata": {},
   "outputs": [],
   "source": [
    "df_5 = df_5.reset_index(drop=True)"
   ]
  },
  {
   "cell_type": "code",
   "execution_count": 157,
   "metadata": {},
   "outputs": [
    {
     "name": "stdout",
     "output_type": "stream",
     "text": [
      "        date state  staffed_icu_adult_patients_confirmed_covid  \\\n",
      "0 2020-01-01    NC                                         NaN   \n",
      "1 2020-01-01    IN                                         NaN   \n",
      "2 2020-01-01    MT                                         NaN   \n",
      "3 2020-01-01    TX                                         NaN   \n",
      "4 2020-01-01    LA                                         NaN   \n",
      "\n",
      "   total_staffed_adult_icu_beds  percent_icu_beds_covid_confirmed  \n",
      "0                           NaN                               NaN  \n",
      "1                           NaN                               NaN  \n",
      "2                           NaN                               NaN  \n",
      "3                           NaN                               NaN  \n",
      "4                           NaN                               NaN  \n"
     ]
    }
   ],
   "source": [
    "print(df_5.head())"
   ]
  },
  {
   "cell_type": "markdown",
   "metadata": {},
   "source": [
    "Cuantos registros tienen NaN para las 3 columnas?"
   ]
  },
  {
   "cell_type": "code",
   "execution_count": 158,
   "metadata": {},
   "outputs": [
    {
     "data": {
      "text/plain": [
       "7301"
      ]
     },
     "execution_count": 158,
     "metadata": {},
     "output_type": "execute_result"
    }
   ],
   "source": [
    "df_5['percent_icu_beds_covid_confirmed'].isna().sum()"
   ]
  },
  {
   "cell_type": "code",
   "execution_count": 159,
   "metadata": {},
   "outputs": [
    {
     "data": {
      "text/plain": [
       "7003"
      ]
     },
     "execution_count": 159,
     "metadata": {},
     "output_type": "execute_result"
    }
   ],
   "source": [
    "df_5['total_staffed_adult_icu_beds'].isna().sum()"
   ]
  },
  {
   "cell_type": "code",
   "execution_count": 140,
   "metadata": {},
   "outputs": [
    {
     "data": {
      "text/plain": [
       "6966"
      ]
     },
     "execution_count": 140,
     "metadata": {},
     "output_type": "execute_result"
    }
   ],
   "source": [
    "df_5['staffed_icu_adult_patients_confirmed_covid'].isna().sum()"
   ]
  },
  {
   "cell_type": "markdown",
   "metadata": {},
   "source": [
    "Se eliminan esos registros"
   ]
  },
  {
   "cell_type": "code",
   "execution_count": 160,
   "metadata": {},
   "outputs": [
    {
     "name": "stdout",
     "output_type": "stream",
     "text": [
      "        date state  staffed_icu_adult_patients_confirmed_covid  \\\n",
      "0 2020-01-01    NC                                         NaN   \n",
      "1 2020-01-01    IN                                         NaN   \n",
      "2 2020-01-01    MT                                         NaN   \n",
      "\n",
      "   total_staffed_adult_icu_beds  percent_icu_beds_covid_confirmed  \n",
      "0                           NaN                               NaN  \n",
      "1                           NaN                               NaN  \n",
      "2                           NaN                               NaN  \n"
     ]
    }
   ],
   "source": [
    "df_mask = df_5['percent_icu_beds_covid_confirmed'].isna()\n",
    "print(df_5[df_mask].head(3))\n",
    "\n",
    "\n",
    "\n",
    "\n",
    "indexNames = df_5[ (df_5['percent_icu_beds_covid_confirmed'].isna())\n",
    "               ].index\n",
    "df_5.drop(indexNames , inplace=True)"
   ]
  },
  {
   "cell_type": "code",
   "execution_count": 161,
   "metadata": {},
   "outputs": [],
   "source": [
    "df_5 = df_5.reset_index(drop=True)"
   ]
  },
  {
   "cell_type": "code",
   "execution_count": 162,
   "metadata": {},
   "outputs": [
    {
     "name": "stdout",
     "output_type": "stream",
     "text": [
      "        date state  staffed_icu_adult_patients_confirmed_covid  \\\n",
      "0 2020-01-02    NV                                       397.0   \n",
      "1 2020-01-03    NV                                       397.0   \n",
      "2 2020-01-04    AR                                         0.0   \n",
      "3 2020-01-04    NV                                       397.0   \n",
      "4 2020-01-05    AR                                         0.0   \n",
      "\n",
      "   total_staffed_adult_icu_beds  percent_icu_beds_covid_confirmed  \n",
      "0                         903.0                          0.439646  \n",
      "1                         903.0                          0.439646  \n",
      "2                           6.0                          0.000000  \n",
      "3                         903.0                          0.439646  \n",
      "4                           6.0                          0.000000  \n",
      "(1028, 5)\n"
     ]
    }
   ],
   "source": [
    "print(df_5.head())\n",
    "print(df_5.shape)"
   ]
  },
  {
   "cell_type": "code",
   "execution_count": 163,
   "metadata": {},
   "outputs": [],
   "source": [
    "df_5 = df_5.sort_values([\"percent_icu_beds_covid_confirmed\"],ascending=False)"
   ]
  },
  {
   "cell_type": "code",
   "execution_count": 164,
   "metadata": {},
   "outputs": [
    {
     "name": "stdout",
     "output_type": "stream",
     "text": [
      "          date state  staffed_icu_adult_patients_confirmed_covid  \\\n",
      "138 2020-07-14    IA                                        23.0   \n",
      "404 2020-07-20    AZ                                       649.0   \n",
      "422 2020-07-21    AZ                                       654.0   \n",
      "271 2020-07-17    MS                                       245.0   \n",
      "85  2020-06-23    IA                                        21.0   \n",
      "567 2020-07-24    AZ                                       767.0   \n",
      "309 2020-07-18    AZ                                       554.0   \n",
      "511 2020-07-23    AZ                                       750.0   \n",
      "146 2020-07-15    AZ                                       571.0   \n",
      "342 2020-07-19    GA                                       484.0   \n",
      "\n",
      "     total_staffed_adult_icu_beds  percent_icu_beds_covid_confirmed  \n",
      "138                          23.0                          1.000000  \n",
      "404                         649.0                          1.000000  \n",
      "422                         663.0                          0.986425  \n",
      "271                         257.0                          0.953307  \n",
      "85                           23.0                          0.913043  \n",
      "567                         841.0                          0.912010  \n",
      "309                         614.0                          0.902280  \n",
      "511                         844.0                          0.888626  \n",
      "146                         645.0                          0.885271  \n",
      "342                         547.0                          0.884826  \n"
     ]
    }
   ],
   "source": [
    "print(df_5.head(10))"
   ]
  },
  {
   "cell_type": "code",
   "execution_count": 165,
   "metadata": {},
   "outputs": [
    {
     "name": "stdout",
     "output_type": "stream",
     "text": [
      "           date state  staffed_icu_adult_patients_confirmed_covid  \\\n",
      "0    2020-07-14    IA                                        23.0   \n",
      "1    2020-07-20    AZ                                       649.0   \n",
      "2    2020-07-21    AZ                                       654.0   \n",
      "3    2020-07-17    MS                                       245.0   \n",
      "4    2020-06-23    IA                                        21.0   \n",
      "...         ...   ...                                         ...   \n",
      "1023 2020-07-28    VT                                         0.0   \n",
      "1024 2020-06-15    NE                                         0.0   \n",
      "1025 2020-07-02    IA                                         0.0   \n",
      "1026 2020-05-23    NE                                         0.0   \n",
      "1027 2020-05-27    IA                                         0.0   \n",
      "\n",
      "      total_staffed_adult_icu_beds  percent_icu_beds_covid_confirmed  \n",
      "0                             23.0                          1.000000  \n",
      "1                            649.0                          1.000000  \n",
      "2                            663.0                          0.986425  \n",
      "3                            257.0                          0.953307  \n",
      "4                             23.0                          0.913043  \n",
      "...                            ...                               ...  \n",
      "1023                          48.0                          0.000000  \n",
      "1024                          62.0                          0.000000  \n",
      "1025                          23.0                          0.000000  \n",
      "1026                          54.0                          0.000000  \n",
      "1027                          21.0                          0.000000  \n",
      "\n",
      "[1028 rows x 5 columns]\n"
     ]
    }
   ],
   "source": [
    "df_5 = df_5.reset_index(drop=True)\n",
    "print(df_5)"
   ]
  },
  {
   "cell_type": "markdown",
   "metadata": {},
   "source": [
    "La medida va a ser promedio mensual de ocupacion por mes"
   ]
  },
  {
   "cell_type": "code",
   "execution_count": 166,
   "metadata": {},
   "outputs": [],
   "source": [
    "df_5['month'] =  pd.to_datetime(df_5['date']).dt.month"
   ]
  },
  {
   "cell_type": "code",
   "execution_count": 167,
   "metadata": {},
   "outputs": [],
   "source": [
    "df_5 = df_5.groupby(['state','month'])['percent_icu_beds_covid_confirmed'].mean()"
   ]
  },
  {
   "cell_type": "code",
   "execution_count": 173,
   "metadata": {},
   "outputs": [
    {
     "name": "stdout",
     "output_type": "stream",
     "text": [
      "state  month\n",
      "AK     7        0.053670\n",
      "       8        0.069767\n",
      "AL     7        0.333100\n",
      "       8        0.342967\n",
      "AR     1        0.000000\n",
      "       7        0.363431\n",
      "       8        0.284281\n",
      "AZ     7        0.803905\n",
      "       8        0.613428\n",
      "CA     7        0.380283\n",
      "       8        0.260063\n",
      "CO     7        0.104662\n",
      "       8        0.095588\n",
      "CT     7        0.086156\n",
      "       8        0.008671\n",
      "DC     7        0.277752\n",
      "       8        0.044554\n",
      "DE     7        0.378676\n",
      "       8        0.212766\n",
      "FL     7        0.408524\n",
      "Name: percent_icu_beds_covid_confirmed, dtype: float64\n"
     ]
    }
   ],
   "source": [
    "print(df_5.head(20))"
   ]
  },
  {
   "cell_type": "markdown",
   "metadata": {},
   "source": [
    "## Falta agrupar por estado"
   ]
  },
  {
   "cell_type": "markdown",
   "metadata": {},
   "source": [
    "6 - ¿Cuántas muertes por covid hubo, por Estado, durante el año 2021?"
   ]
  },
  {
   "cell_type": "code",
   "execution_count": 16,
   "metadata": {},
   "outputs": [],
   "source": [
    "\n",
    "df_mask = df_report['date'] < '2022-01-01'\n",
    "df_6 = df_report[df_mask]\n",
    "\n",
    "df_mask = df_6['date'] >= '2021-01-01'\n",
    "df_6 = df_6[df_mask]\n",
    "\n",
    "df_6.sort_values(by='date', ascending = True,\n",
    "                 inplace = True)\n",
    "df_6 = df_6.reset_index()\n",
    "\n",
    "# Number of patients with suspected or confirmed COVID-19 who died on the previous calendar day in the hospital, ED, or overflow location\n",
    "df_6 = df_6[['date','state','deaths_covid']]\n"
   ]
  },
  {
   "cell_type": "code",
   "execution_count": 17,
   "metadata": {},
   "outputs": [
    {
     "name": "stdout",
     "output_type": "stream",
     "text": [
      "        date state  deaths_covid\n",
      "0 2021-01-01    IL          64.0\n",
      "1 2021-01-01    OK          41.0\n",
      "2 2021-01-01    KS          12.0\n",
      "3 2021-01-01    MI          41.0\n",
      "4 2021-01-01    AR          25.0\n"
     ]
    }
   ],
   "source": [
    "print(df_6.head())\n",
    "#print(df_6.tail())"
   ]
  },
  {
   "cell_type": "code",
   "execution_count": 20,
   "metadata": {},
   "outputs": [
    {
     "data": {
      "text/plain": [
       "<AxesSubplot:xlabel='state'>"
      ]
     },
     "execution_count": 20,
     "metadata": {},
     "output_type": "execute_result"
    },
    {
     "data": {
      "image/png": "[encoded data removed]",
      "text/plain": [
       "<Figure size 1800x576 with 1 Axes>"
      ]
     },
     "metadata": {
      "needs_background": "light"
     },
     "output_type": "display_data"
    }
   ],
   "source": [
    "df_6.groupby(['state'])['deaths_covid'].sum().sort_values(ascending=False).plot(kind='bar',legend='Reverse',figsize = (25, 8))"
   ]
  },
  {
   "cell_type": "code",
   "execution_count": 21,
   "metadata": {},
   "outputs": [
    {
     "name": "stdout",
     "output_type": "stream",
     "text": [
      "Top 10estados con mas muertos durante el 2021:  state\n",
      "CA    35108.0\n",
      "TX    32889.0\n",
      "FL    26004.0\n",
      "NY    17620.0\n",
      "AZ    16250.0\n",
      "PA    13363.0\n",
      "GA    12338.0\n",
      "OH    12023.0\n",
      "NC    10922.0\n",
      "TN     9439.0\n",
      "Name: deaths_covid, dtype: float64\n"
     ]
    }
   ],
   "source": [
    "df_6_groupby = df_6.groupby(['state'])['deaths_covid'].sum().sort_values(ascending=False)\n",
    "print(\"Top 10estados con mas muertos durante el 2021: \",df_6_groupby[:10])"
   ]
  },
  {
   "cell_type": "markdown",
   "metadata": {},
   "source": [
    "7 - ¿Qué relación presenta la falta de personal médico, con la cantidad de muertes por covid durante el año 2021?"
   ]
  },
  {
   "cell_type": "code",
   "execution_count": 21,
   "metadata": {},
   "outputs": [],
   "source": [
    "df_mask = df_report['date'] < '2022-01-01'\n",
    "df_7 = df_report[df_mask]\n",
    "\n",
    "df_mask = df_7['date'] >= '2021-01-01'\n",
    "df_7 = df_7[df_mask]\n",
    "\n",
    "df_7.sort_values(by='date', ascending = True,\n",
    "                 inplace = True)\n",
    "df_7 = df_7.reset_index(drop=True)\n",
    "\n",
    "\n",
    "# critical_staffing_shortage_today_yes -> 3. Number of hospitals reporting a critical staffing shortage today in this state.\n",
    "# deaths_covid -> Number of patients with suspected or confirmed COVID-19 who died on the previous calendar day in the hospital, ED, or overflow location\n",
    "df_7 = df_7[['date','state','deaths_covid','critical_staffing_shortage_today_yes']]"
   ]
  },
  {
   "cell_type": "code",
   "execution_count": 22,
   "metadata": {},
   "outputs": [
    {
     "name": "stdout",
     "output_type": "stream",
     "text": [
      "        date state  deaths_covid  critical_staffing_shortage_today_yes\n",
      "0 2021-01-01    IL          64.0                                    16\n",
      "1 2021-01-01    OK          41.0                                    45\n",
      "2 2021-01-01    KS          12.0                                    10\n",
      "3 2021-01-01    MI          41.0                                    21\n",
      "4 2021-01-01    AR          25.0                                    18\n"
     ]
    }
   ],
   "source": [
    "print(df_7.head())"
   ]
  },
  {
   "cell_type": "markdown",
   "metadata": {},
   "source": [
    "Se va a analizar por periodos semanales"
   ]
  },
  {
   "cell_type": "code",
   "execution_count": 23,
   "metadata": {},
   "outputs": [
    {
     "name": "stderr",
     "output_type": "stream",
     "text": [
      "C:\\Users\\hector hugo\\AppData\\Local\\Temp\\ipykernel_12020\\2928596701.py:2: FutureWarning: Series.dt.weekofyear and Series.dt.week have been deprecated. Please use Series.dt.isocalendar().week instead.\n",
      "  df_7['Week_Number'] = df_7['date'].dt.week\n"
     ]
    }
   ],
   "source": [
    "df_7['month'] = df_7['date'].dt.month\n",
    "df_7['Week_Number'] = df_7['date'].dt.week"
   ]
  },
  {
   "cell_type": "code",
   "execution_count": 24,
   "metadata": {},
   "outputs": [
    {
     "name": "stdout",
     "output_type": "stream",
     "text": [
      "          date state  deaths_covid  critical_staffing_shortage_today_yes  \\\n",
      "400 2021-01-08    ND           1.0                                    19   \n",
      "401 2021-01-08    IL          63.0                                    22   \n",
      "402 2021-01-08    TX         239.0                                   166   \n",
      "403 2021-01-08    NM          12.0                                    22   \n",
      "404 2021-01-08    FL          83.0                                     8   \n",
      "405 2021-01-08    IN          44.0                                    23   \n",
      "406 2021-01-08    HI           0.0                                     2   \n",
      "407 2021-01-08    TN          64.0                                    33   \n",
      "408 2021-01-08    CT          21.0                                     4   \n",
      "409 2021-01-08    MO          43.0                                    23   \n",
      "410 2021-01-08    MN          14.0                                    20   \n",
      "411 2021-01-08    OH          67.0                                    26   \n",
      "412 2021-01-08    ID          10.0                                     5   \n",
      "413 2021-01-08    KS          21.0                                    15   \n",
      "414 2021-01-08    DC           4.0                                     0   \n",
      "415 2021-01-08    WY           2.0                                     4   \n",
      "416 2021-01-08    PR          61.0                                     0   \n",
      "417 2021-01-08    UT           3.0                                     1   \n",
      "418 2021-01-08    OR           9.0                                     2   \n",
      "419 2021-01-08    WA          12.0                                     9   \n",
      "\n",
      "     month  Week_Number  \n",
      "400      1            1  \n",
      "401      1            1  \n",
      "402      1            1  \n",
      "403      1            1  \n",
      "404      1            1  \n",
      "405      1            1  \n",
      "406      1            1  \n",
      "407      1            1  \n",
      "408      1            1  \n",
      "409      1            1  \n",
      "410      1            1  \n",
      "411      1            1  \n",
      "412      1            1  \n",
      "413      1            1  \n",
      "414      1            1  \n",
      "415      1            1  \n",
      "416      1            1  \n",
      "417      1            1  \n",
      "418      1            1  \n",
      "419      1            1  \n"
     ]
    }
   ],
   "source": [
    "print(df_7.iloc[400:420])"
   ]
  },
  {
   "cell_type": "code",
   "execution_count": 32,
   "metadata": {},
   "outputs": [],
   "source": [
    "df_7_deaths = df_7.groupby(['state','Week_Number'])['deaths_covid'].sum()"
   ]
  },
  {
   "cell_type": "code",
   "execution_count": 33,
   "metadata": {},
   "outputs": [],
   "source": [
    "df_7_staffing = df_7.groupby(['state','Week_Number'])['critical_staffing_shortage_today_yes'].sum()"
   ]
  },
  {
   "cell_type": "code",
   "execution_count": 34,
   "metadata": {},
   "outputs": [
    {
     "name": "stdout",
     "output_type": "stream",
     "text": [
      "state  Week_Number\n",
      "AK     1              9.0\n",
      "       2              5.0\n",
      "       3              3.0\n",
      "Name: deaths_covid, dtype: float64\n"
     ]
    }
   ],
   "source": [
    "print(df_7_deaths.head(3))"
   ]
  },
  {
   "cell_type": "code",
   "execution_count": 37,
   "metadata": {},
   "outputs": [
    {
     "name": "stdout",
     "output_type": "stream",
     "text": [
      "Week_Number\n",
      "1    7\n",
      "2    7\n",
      "3    7\n",
      "Name: critical_staffing_shortage_today_yes, dtype: int64\n"
     ]
    }
   ],
   "source": [
    "print(df_7_staffing['AK'].head(3))"
   ]
  },
  {
   "cell_type": "code",
   "execution_count": 45,
   "metadata": {},
   "outputs": [
    {
     "data": {
      "image/png": "[encoded data removed]",
      "text/plain": [
       "<Figure size 1800x576 with 1 Axes>"
      ]
     },
     "metadata": {
      "needs_background": "light"
     },
     "output_type": "display_data"
    }
   ],
   "source": [
    "plt.figure(figsize = (25, 8))\n",
    "\n",
    "df_7_staffing['AK'].plot(kind='bar',legend='Reverse')\n",
    "df_7_deaths['AK'].plot(kind='line',legend='Reverse')\n",
    "\n",
    "plt.xlabel(\"Week number - 2021\")\n",
    "\n",
    "plt.title(\"Relacion muertes - hospitales con staff critico para el estado de Arkansas\")\n",
    "\n",
    "plt.show()"
   ]
  },
  {
   "cell_type": "markdown",
   "metadata": {},
   "source": [
    "Medida global"
   ]
  },
  {
   "cell_type": "code",
   "execution_count": 46,
   "metadata": {},
   "outputs": [],
   "source": [
    "df_7_deaths_global = df_7.groupby(['Week_Number'])['deaths_covid'].sum()\n",
    "df_7_staffing_global = df_7.groupby(['Week_Number'])['critical_staffing_shortage_today_yes'].sum()"
   ]
  },
  {
   "cell_type": "code",
   "execution_count": 47,
   "metadata": {},
   "outputs": [
    {
     "name": "stdout",
     "output_type": "stream",
     "text": [
      "Week_Number\n",
      "1    15971.0\n",
      "2    15990.0\n",
      "3    14954.0\n",
      "Name: deaths_covid, dtype: float64\n"
     ]
    }
   ],
   "source": [
    "print(df_7_deaths_global.head(3))"
   ]
  },
  {
   "cell_type": "code",
   "execution_count": 48,
   "metadata": {},
   "outputs": [
    {
     "name": "stdout",
     "output_type": "stream",
     "text": [
      "Week_Number\n",
      "1    7643\n",
      "2    7501\n",
      "3    7006\n",
      "Name: critical_staffing_shortage_today_yes, dtype: int64\n"
     ]
    }
   ],
   "source": [
    "print(df_7_staffing_global.head(3))"
   ]
  },
  {
   "cell_type": "code",
   "execution_count": 49,
   "metadata": {},
   "outputs": [
    {
     "data": {
      "image/png": "[encoded data removed]",
      "text/plain": [
       "<Figure size 1800x576 with 1 Axes>"
      ]
     },
     "metadata": {
      "needs_background": "light"
     },
     "output_type": "display_data"
    }
   ],
   "source": [
    "plt.figure(figsize = (25, 8))\n",
    "\n",
    "df_7_staffing_global.plot(kind='bar',legend='Reverse')\n",
    "df_7_deaths_global.plot(kind='line',legend='Reverse')\n",
    "\n",
    "plt.xlabel(\"Week number - 2021\")\n",
    "\n",
    "plt.title(\"Relacion muertes - hospitales con staff critico a nivel global\")\n",
    "\n",
    "plt.show()"
   ]
  },
  {
   "cell_type": "markdown",
   "metadata": {},
   "source": [
    "8 - Siguiendo las respuestas anteriores, ¿cuál fue el peor mes de la pandemia para USA en su conjunto? Puede utilizar otras medidas que considere necesarias."
   ]
  },
  {
   "cell_type": "markdown",
   "metadata": {},
   "source": [
    "- critical_staffing_shortage_today_yes -> 3. Number of hospitals reporting a critical staffing shortage today in this state.\n",
    "- previous_day_admission_adult_covid_confirmed -> 17. Number of patients who were admitted to an adult inpatient bed on the previous calendar day who had confirmed COVID-19 at the time of admission in this state\n",
    "- inpatient_beds_utilization -> 41. Percentage of inpatient beds that are being utilized in this state. This number only accounts for hospitals in the state that report both \"inpatient_beds_used\" and \"inpatient_beds\" fields.\n",
    "- inpatient_bed_covid_utilization -> 49. Percentage of total (used/available) inpatient beds currently utilized by patients who have suspected or confirmed COVID-19 in this state. This number only accounts for hospitals in the state that report both \"inpatient_beds_used_covid\" and \"inpatient_beds\" fields\n",
    "- adult_icu_bed_covid_utilization -> 53. Percentage of total staffed adult ICU beds currently utilized by patients who have suspected or confirmed COVID-19 in this state. This number only accounts for hospitals in the state that report both \"staffed_icu_adult_patients_confirmed_and_suspected_covid\" and \"total_staffed_adult_icu_beds\" fields. \n",
    "- adult_icu_bed_utilization -> 57. Percentage of staffed adult ICU beds that are being utilized in this state. This number only accounts for hospitals in the state that report both \"staffed_adult_icu_bed_occupancy\" and \"total_staffed_adult_icu_beds\" fields.\n",
    "- deaths_covid -> Number of patients with suspected or confirmed COVID-19 who died on the previous calendar day in the hospital, ED, or overflow location"
   ]
  },
  {
   "cell_type": "code",
   "execution_count": 24,
   "metadata": {},
   "outputs": [],
   "source": [
    "df_mask = df_report['date'] < '2021-01-01'\n",
    "df_8 = df_report[df_mask]\n",
    "\n",
    "df_mask = df_8['date'] >= '2020-01-01'\n",
    "df_8 = df_8[df_mask]\n",
    "\n",
    "df_8.sort_values(by='date', ascending = True,\n",
    "                 inplace = True)\n",
    "df_8 = df_8.reset_index(drop=True)\n",
    "\n",
    "df_8['month'] = df_8['date'].dt.month\n",
    "\n",
    "df_8 = df_8[['date','state','month','deaths_covid','critical_staffing_shortage_today_yes','previous_day_admission_adult_covid_confirmed','inpatient_beds_utilization','inpatient_bed_covid_utilization','adult_icu_bed_covid_utilization','adult_icu_bed_utilization']]"
   ]
  },
  {
   "cell_type": "code",
   "execution_count": 25,
   "metadata": {},
   "outputs": [
    {
     "name": "stdout",
     "output_type": "stream",
     "text": [
      "        date state  month  deaths_covid  critical_staffing_shortage_today_yes  \\\n",
      "0 2020-01-01    MN      1           0.0                                     0   \n",
      "1 2020-01-01    NC      1           0.0                                     0   \n",
      "2 2020-01-01    IN      1           0.0                                     0   \n",
      "\n",
      "   previous_day_admission_adult_covid_confirmed  inpatient_beds_utilization  \\\n",
      "0                                           NaN                         NaN   \n",
      "1                                           NaN                         NaN   \n",
      "2                                           NaN                         0.5   \n",
      "\n",
      "   inpatient_bed_covid_utilization  adult_icu_bed_covid_utilization  \\\n",
      "0                              NaN                              NaN   \n",
      "1                              NaN                              NaN   \n",
      "2                              0.0                              NaN   \n",
      "\n",
      "   adult_icu_bed_utilization  \n",
      "0                        NaN  \n",
      "1                        NaN  \n",
      "2                        NaN  \n"
     ]
    }
   ],
   "source": [
    "print(df_8.head(3))"
   ]
  },
  {
   "cell_type": "code",
   "execution_count": 26,
   "metadata": {},
   "outputs": [],
   "source": [
    "data = np.array(['0','1', '2', '3', '4', '5','6','7','8','9','10','11','12']) \n",
    "df_8_month = pd.Series(data) \n",
    "\n",
    "df_8_deaths = df_8.groupby(['month'])['deaths_covid'].sum()\n",
    "df_8_staffing = df_8.groupby(['month'])['critical_staffing_shortage_today_yes'].sum()\n",
    "df_8_admission_confirmed = df_8.groupby(['month'])['previous_day_admission_adult_covid_confirmed'].sum()\n",
    "\n",
    "df_8_staffing_bed_utilization = df_8.groupby(['month'])['inpatient_beds_utilization'].mean()\n",
    "df_8_staffing_bed_covid_utilization = df_8.groupby(['month'])['inpatient_bed_covid_utilization'].mean()\n",
    "df_8_staffing_icu_bed_utilization = df_8.groupby(['month'])['adult_icu_bed_utilization'].mean()\n",
    "df_8_staffing_icu_bed_covid_utilization = df_8.groupby(['month'])['adult_icu_bed_covid_utilization'].mean()\n",
    "\n"
   ]
  },
  {
   "cell_type": "code",
   "execution_count": 27,
   "metadata": {},
   "outputs": [
    {
     "name": "stdout",
     "output_type": "stream",
     "text": [
      "   month   deaths  staffing_critical  admission  staffing_bed_utilization  \\\n",
      "1      1    145.0               80.0      660.0                  0.434133   \n",
      "2      2      0.0                0.0        0.0                  0.461779   \n",
      "3      3   1118.0                0.0       21.0                  0.519888   \n",
      "4      4  33572.0               30.0     1810.0                  0.512975   \n",
      "5      5  54884.0                6.0     1898.0                  0.601061   \n",
      "6      6  17541.0               48.0     1508.0                  0.637921   \n",
      "7      7  19178.0            10028.0    82899.0                  0.662301   \n",
      "8      8  31259.0            24210.0   136359.0                  0.662677   \n",
      "9      9  15245.0            25950.0   109792.0                  0.659806   \n",
      "10    10  17963.0            29017.0   165563.0                  0.679010   \n",
      "11    11  33435.0            32499.0   313267.0                  0.686834   \n",
      "12    12  56674.0            37425.0   454790.0                  0.692573   \n",
      "\n",
      "    staffing_bed_covid_utilization  staffing_icu_bed_utilization  \\\n",
      "1                         0.006381                      0.508029   \n",
      "2                         0.002349                           NaN   \n",
      "3                         0.033761                           NaN   \n",
      "4                         0.082434                      0.690037   \n",
      "5                         0.068849                           NaN   \n",
      "6                         0.051730                           NaN   \n",
      "7                         0.072854                      0.644601   \n",
      "8                         0.059639                      0.689492   \n",
      "9                         0.045655                      0.655836   \n",
      "10                        0.057423                      0.678822   \n",
      "11                        0.104121                      0.718679   \n",
      "12                        0.133692                      0.736004   \n",
      "\n",
      "    staffing_icu_bed_covid_utilization  \n",
      "1                             0.235880  \n",
      "2                                  NaN  \n",
      "3                                  NaN  \n",
      "4                             0.076896  \n",
      "5                                  NaN  \n",
      "6                                  NaN  \n",
      "7                             0.164496  \n",
      "8                             0.150743  \n",
      "9                             0.116154  \n",
      "10                            0.138586  \n",
      "11                            0.229173  \n",
      "12                            0.284140  \n"
     ]
    }
   ],
   "source": [
    "#Convertimos a dataframe\n",
    "df_8_union = pd.concat([df_8_month,df_8_deaths,df_8_staffing,df_8_admission_confirmed,df_8_staffing_bed_utilization,df_8_staffing_bed_covid_utilization,df_8_staffing_icu_bed_utilization, df_8_staffing_icu_bed_covid_utilization],axis=1)\n",
    "df_8_union.columns = [\"month\",\"deaths\",'staffing_critical','admission','staffing_bed_utilization','staffing_bed_covid_utilization','staffing_icu_bed_utilization','staffing_icu_bed_covid_utilization']\n",
    "\n",
    "df_8_union=df_8_union.drop(df_8_union.index[[0]])\n",
    "\n",
    "print(df_8_union)"
   ]
  },
  {
   "cell_type": "code",
   "execution_count": 28,
   "metadata": {},
   "outputs": [
    {
     "data": {
      "image/png": "[encoded data removed]",
      "text/plain": [
       "<Figure size 1800x576 with 1 Axes>"
      ]
     },
     "metadata": {
      "needs_background": "light"
     },
     "output_type": "display_data"
    }
   ],
   "source": [
    "plt.figure(figsize = (25,8))\n",
    "plt.plot(df_8_union['month'], df_8_union['deaths'], lw=3, label ='Deaths')\n",
    "plt.plot(df_8_union['month'], df_8_union['staffing_critical'], lw=3, label='Staffing Critical')\n",
    "plt.plot(df_8_union['month'], df_8_union['admission'], lw=3, label = 'Admission')\n",
    "\n",
    "#plt.scatter(df_8_union['month'], df_8_union['deaths'],s=55,c='r')\n",
    "\n",
    "plt.xlabel('Meses')\n",
    "plt.ylabel('Cantidades Absolutas')\n",
    "\n",
    "plt.title('Año 2020')\n",
    "plt.legend()\n",
    "\n",
    "plt.show()"
   ]
  },
  {
   "cell_type": "code",
   "execution_count": 29,
   "metadata": {},
   "outputs": [
    {
     "data": {
      "image/png": "[encoded data removed]",
      "text/plain": [
       "<Figure size 1800x576 with 1 Axes>"
      ]
     },
     "metadata": {
      "needs_background": "light"
     },
     "output_type": "display_data"
    }
   ],
   "source": [
    "plt.figure(figsize = (25,8))\n",
    "\n",
    "plt.plot(df_8_union['month'], df_8_union['staffing_bed_utilization'], lw=3,label='Staffing bed utilization')\n",
    "plt.plot(df_8_union['month'], df_8_union['staffing_bed_covid_utilization'], lw=3, label = 'Staffing bed COVID utilization')\n",
    "plt.plot(df_8_union['month'], df_8_union['staffing_icu_bed_utilization'], lw=3, label = 'Staffing ICU bed utilization')\n",
    "plt.plot(df_8_union['month'], df_8_union['staffing_icu_bed_covid_utilization'], lw=3, label = 'Staffing ICU bed COVID utilization')\n",
    "\n",
    "#plt.scatter(df_8_union['month'], df_8_union['deaths'],s=55,c='r')\n",
    "\n",
    "plt.xlabel('Mes')\n",
    "plt.ylabel('Proporcion')\n",
    "\n",
    "plt.title('Año 2020')\n",
    "plt.legend()\n",
    "\n",
    "plt.show()"
   ]
  },
  {
   "cell_type": "markdown",
   "metadata": {},
   "source": [
    "Maximos para cada columna"
   ]
  },
  {
   "cell_type": "code",
   "execution_count": 41,
   "metadata": {},
   "outputs": [
    {
     "name": "stdout",
     "output_type": "stream",
     "text": [
      "El valor maximo de la columna deaths  se da en el mes:  12\n",
      "El valor maximo de la columna staffing_critical  se da en el mes:  12\n",
      "El valor maximo de la columna admission  se da en el mes:  12\n",
      "El valor maximo de la columna staffing_bed_utilization  se da en el mes:  12\n",
      "El valor maximo de la columna staffing_bed_covid_utilization  se da en el mes:  12\n",
      "El valor maximo de la columna staffing_icu_bed_utilization  se da en el mes:  12\n",
      "El valor maximo de la columna staffing_icu_bed_covid_utilization  se da en el mes:  12\n"
     ]
    }
   ],
   "source": [
    "names = [\"deaths\",'staffing_critical','admission','staffing_bed_utilization','staffing_bed_covid_utilization','staffing_icu_bed_utilization','staffing_icu_bed_covid_utilization']\n",
    "\n",
    "for i in names:\n",
    "    maxValueIndex = df_8_union[i].idxmax() \n",
    " \n",
    "    print(\"El valor maximo de la columna\",i,\" se da en el mes: \",df_8_union['month'][maxValueIndex]) \n",
    "     "
   ]
  },
  {
   "cell_type": "markdown",
   "metadata": {},
   "source": [
    "### Dashboard\n",
    "Columnas a utilizar:\n",
    "- cantidad de hospitalizados debido al COVID-19 por Estado -> **total_adult_patients_hospitalized_confirmed_covid** (33. Reported patients currently hospitalized in an adult inpatient bed who have laboratory-confirmed COVID-19. This include those in observation beds.).\n",
    "- Uso de camas UCI por Estado -> **adult_icu_bed_utilization** (57. Percentage of staffed adult ICU beds that are being utilized in this state. This number only accounts for hospitals in the state that report both \"staffed_adult_icu_bed_occupancy\" and \"total_staffed_adult_icu_beds\" fields.\n",
    "- Ranking de Estados con mayor ocupación hospitalaria por COVID -> **inpatient_bed_covid_utilization** (49. Percentage of total (used/available) inpatient beds currently utilized by patients who have suspected or confirmed COVID-19 in this state. This number only accounts for hospitals in the state that report both \"inpatient_beds_used_covid\" and \"inpatient_beds\" fields..\n",
    "- Cantidad de camas ocupadas por COVID-19 entre dos fechas elegidas por el usuario -> **total_adult_patients_hospitalized_confirmed_covid** (33. Reported patients currently hospitalized in an adult inpatient bed who have laboratory-confirmed COVID-19. This include those in observation beds).\n",
    "\n",
    "Se va a trabajar con los datos agregados por semana, abarcando todo el 2020 y 2021."
   ]
  },
  {
   "cell_type": "code",
   "execution_count": 5,
   "metadata": {},
   "outputs": [],
   "source": [
    "df_mask = df_report['date'] < '2022-01-01'\n",
    "df_dash = df_report[df_mask]\n",
    "\n",
    "df_mask = df_dash['date'] >= '2020-01-01'\n",
    "df_dash = df_dash[df_mask]\n",
    "\n",
    "df_dash.sort_values(by='date', ascending = True,\n",
    "                 inplace = True)\n",
    "df_dash = df_dash.reset_index(drop=True)\n",
    "\n",
    "df_dash['year'] = df_dash['date'].dt.year\n",
    "df_dash['Week_Number'] = df_dash['date'].dt.isocalendar().week\n",
    "df_dash[\"Periodo\"] = df_dash['year']*100+df_dash['Week_Number'] # Identificador de semana mas anio -> anio*100 + semana.\n",
    "\n",
    "\n",
    "\n",
    "df_dash = df_dash[['date','state','year','Week_Number','Periodo','total_adult_patients_hospitalized_confirmed_covid','inpatient_bed_covid_utilization','adult_icu_bed_utilization']]\n",
    "\n",
    "\n",
    "df_dash_group_patient_confirmed = df_dash.groupby(['state','Periodo'])['total_adult_patients_hospitalized_confirmed_covid'].sum()"
   ]
  },
  {
   "cell_type": "code",
   "execution_count": 4,
   "metadata": {},
   "outputs": [
    {
     "name": "stdout",
     "output_type": "stream",
     "text": [
      "            date state  year  Week_Number  Periodo  \\\n",
      "35918 2021-12-31    NM  2021           52   202152   \n",
      "35919 2021-12-31    MT  2021           52   202152   \n",
      "35920 2021-12-31    DE  2021           52   202152   \n",
      "\n",
      "       total_adult_patients_hospitalized_confirmed_covid  \\\n",
      "35918                                              511.0   \n",
      "35919                                              143.0   \n",
      "35920                                              470.0   \n",
      "\n",
      "       inpatient_bed_covid_utilization  adult_icu_bed_utilization  \n",
      "35918                         0.125445                   0.910314  \n",
      "35919                         0.050488                   0.684685  \n",
      "35920                         0.151152                   0.820000  \n"
     ]
    }
   ],
   "source": [
    "print(df_dash.tail(3))"
   ]
  },
  {
   "cell_type": "code",
   "execution_count": 12,
   "metadata": {},
   "outputs": [
    {
     "name": "stdout",
     "output_type": "stream",
     "text": [
      "12869.0\n"
     ]
    }
   ],
   "source": [
    "print(df_dash_group_patient_confirmed['NY'])"
   ]
  }
 ],
 "metadata": {
  "kernelspec": {
   "display_name": "Python 3.9.5 64-bit",
   "language": "python",
   "name": "python3"
  },
  "language_info": {
   "codemirror_mode": {
    "name": "ipython",
    "version": 3
   },
   "file_extension": ".py",
   "mimetype": "text/x-python",
   "name": "python",
   "nbconvert_exporter": "python",
   "pygments_lexer": "ipython3",
   "version": "3.9.5"
  },
  "orig_nbformat": 4,
  "vscode": {
   "interpreter": {
    "hash": "72324e7f6841304134e799a108e14b34a5b44f25d84580578b4a15f6757aec1b"
   }
  }
 },
 "nbformat": 4,
 "nbformat_minor": 2
}
